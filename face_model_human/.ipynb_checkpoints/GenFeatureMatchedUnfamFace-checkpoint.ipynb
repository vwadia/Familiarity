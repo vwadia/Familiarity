{
 "cells": [
  {
   "cell_type": "markdown",
   "id": "f49c1201-3bcc-42ac-a836-eb98e72bf934",
   "metadata": {},
   "source": [
    "### Notebook version of Liang's script gen_feature_matched_face so I can test it in pieces\n",
    "### Using SUAnalysis kernel for all things Familiar face\n"
   ]
  },
  {
   "cell_type": "code",
   "execution_count": 1,
   "id": "427ed17c-889d-4738-a8ab-501db71886b5",
   "metadata": {
    "collapsed": true,
    "jupyter": {
     "outputs_hidden": true
    },
    "tags": []
   },
   "outputs": [
    {
     "ename": "ValueError",
     "evalue": "invalid literal for int() with base 10: '-f'",
     "output_type": "error",
     "traceback": [
      "\u001b[1;31m---------------------------------------------------------------------------\u001b[0m",
      "\u001b[1;31mValueError\u001b[0m                                Traceback (most recent call last)",
      "Input \u001b[1;32mIn [1]\u001b[0m, in \u001b[0;36m<cell line: 26>\u001b[1;34m()\u001b[0m\n\u001b[0;32m     25\u001b[0m \u001b[38;5;28;01mimport\u001b[39;00m \u001b[38;5;21;01msys\u001b[39;00m\n\u001b[0;32m     26\u001b[0m \u001b[38;5;28;01mif\u001b[39;00m \u001b[38;5;28mlen\u001b[39m(sys\u001b[38;5;241m.\u001b[39margv)\u001b[38;5;241m>\u001b[39m\u001b[38;5;241m1\u001b[39m:\n\u001b[1;32m---> 27\u001b[0m     iface \u001b[38;5;241m=\u001b[39m \u001b[38;5;28;43mint\u001b[39;49m\u001b[43m(\u001b[49m\u001b[43msys\u001b[49m\u001b[38;5;241;43m.\u001b[39;49m\u001b[43margv\u001b[49m\u001b[43m[\u001b[49m\u001b[38;5;241;43m1\u001b[39;49m\u001b[43m]\u001b[49m\u001b[43m)\u001b[49m\n\u001b[0;32m     28\u001b[0m \u001b[38;5;28;01melse\u001b[39;00m:\n\u001b[0;32m     29\u001b[0m     iface \u001b[38;5;241m=\u001b[39m \u001b[38;5;241m0\u001b[39m\n",
      "\u001b[1;31mValueError\u001b[0m: invalid literal for int() with base 10: '-f'"
     ]
    }
   ],
   "source": [
    "# -*- coding: utf-8 -*-\n",
    "# gen face similar to target face (fixed small distance in face space) \n",
    "# and low level feature matched\n",
    "\n",
    "# Distribution difference measure: KL divergence\n",
    "# Match outer contour also\n",
    "\n",
    "import time\n",
    "t_start = time.time()\n",
    "\n",
    "\n",
    "#%% \n",
    "\n",
    "import numpy as np\n",
    "# import concurrent.futures\n",
    "# import matplotlib.pyplot as plt\n",
    "\n",
    "from scipy import optimize\n",
    "\n",
    "from skimage.color import rgb2hsv, rgb2gray\n",
    "import pickle\n",
    "\n",
    "\n",
    "#%% input\n",
    "# \"list of command line arguments passed to the script at runtime\"\n",
    "# eg. when running a script in command line python Backgroun_remove input_im output_im\n",
    "# sys.argv[0] = Background_remove, sys.argv[1] = input_im, sys.argv[2] = output_im\n",
    "import sys\n",
    "if len(sys.argv)>1:\n",
    "    iface = int(sys.argv[1])\n",
    "else:\n",
    "    iface = 0 #input face?\n",
    "\n",
    "#%% check where the code is running\n",
    "import os\n",
    "# nt -> meaning os is a microsoft os of NT lineage (windows 10/7/NT distinct from dos versions eg. windows 95)\n",
    "if os.name=='nt': \n",
    "#     sys.path.append('D:/github/AAM')\n",
    "#     model_data = 'D:/Project2 memory/2D_monkey_face_model/Model_Data/Face_Model_Data.mat';\n",
    "# else:\n",
    "    model_data = '../data/Face_Model_Data.mat'\n",
    "\n",
    "\n"
   ]
  },
  {
   "cell_type": "markdown",
   "id": "c8977223-388c-43c1-afe3-388143af10fd",
   "metadata": {},
   "source": [
    "Set optimization parameters"
   ]
  },
  {
   "cell_type": "code",
   "execution_count": null,
   "id": "94851147-51c2-4013-b9d1-e40321439740",
   "metadata": {},
   "outputs": [],
   "source": [
    "#%% optimization options\n",
    "\n",
    "# op_method = 'BFGS'\n",
    "# options_optimize = {'disp': True, 'maxiter': 1000, 'gtol': 1e-03, 'eps': 1e-02}\n",
    "\n",
    "op_method = 'Nelder-Mead'\n",
    "options_optimize = {'disp': True, 'maxiter': 1000}\n",
    "\n",
    "\n",
    "#%% initialize face generator\n",
    "from Model.AAM_Model import AAM_Model\n",
    "\n",
    "model = AAM_Model(model_data)\n",
    "output_res = [300, 300]\n",
    "options_face_gen = {'normalized': True, 'ndim_shape': 10}\n",
    "\n",
    "#%% familiar faces params (shape-appearance feature)\n",
    "p_fam = np.load('all_face_features_60_20d_norm.npy') # how to make?\n",
    "n_fam = p_fam.shape[0]\n",
    "n_dim = p_fam.shape[1]\n",
    "\n",
    "#%%\n",
    "rng = np.random.default_rng()\n",
    "\n",
    "\n",
    "#%% get image features\n",
    "bin_hue = np.arange(0,1.01,0.01)\n",
    "bin_low = np.arange(-10,10,0.5)\n",
    "\n",
    "\n"
   ]
  },
  {
   "cell_type": "markdown",
   "id": "4065218c-8f97-4339-b9cf-3bd91c35b0aa",
   "metadata": {},
   "source": [
    "Define functions "
   ]
  },
  {
   "cell_type": "code",
   "execution_count": null,
   "id": "e73ddd76-dbec-40a6-bb75-94b4cf362662",
   "metadata": {},
   "outputs": [],
   "source": [
    "def get_image_features_distribution(im):\n",
    "    \n",
    "    im_gray = rgb2gray(im.squeeze())\n",
    "    \n",
    "    lum = im_gray.mean()\n",
    "    contrast = np.square(im_gray-128).mean()\n",
    "    \n",
    "    im_hsv = rgb2hsv(im.squeeze())\n",
    "    hue = im_hsv[:,:,0].flatten()\n",
    "    hue_pdf = np.histogram(hue, bin_hue)[0]/len(hue)\n",
    "\n",
    "    return lum, contrast, hue_pdf\n",
    "\n",
    "\n",
    "#%% optimize\n",
    "\n",
    "\n",
    "\n",
    "def find_low_level_matched_face(p_fam1, deviation):\n",
    "    #familiar face low level features\n",
    "    \n",
    "    im_fam, landmarks_fam = model.gen_image_param(p_fam1.reshape((1,-1)), output_res, options_face_gen)\n",
    "    rim_fam = landmarks_fam[model.data.mark_group.rim,:]\n",
    "    \n",
    "    lum_fam, contrast_fam, hue_fam_pdf = get_image_features_distribution(im_fam)\n",
    "    hue_fam_entropy = - np.dot(hue_fam_pdf, np.log2(hue_fam_pdf+1e-6))\n",
    "    \n",
    "    def cost_fun(dp):\n",
    "        \n",
    "        ## constraint in distance of deviation vector\n",
    "        dp = dp/np.sqrt(np.inner(dp, dp)/len(dp))*deviation\n",
    "        \n",
    "        p = p_fam1 + dp\n",
    "                \n",
    "        im, landmarks = model.gen_image_param(p.reshape((1,-1)), output_res, options_face_gen)\n",
    "        rim = landmarks[model.data.mark_group.rim,:]\n",
    "        \n",
    "        lum, contrast, hue_pdf = get_image_features_distribution(im)\n",
    "        \n",
    "        # contrast\n",
    "        cost1 = abs(contrast_fam - contrast)/100\n",
    "        \n",
    "        # luminance\n",
    "        cost2 = abs(lum_fam - lum)/10\n",
    "        \n",
    "        # distribution hue\n",
    "        cost3 = (-np.dot(hue_fam_pdf, np.log2(hue_pdf+1e-6)) - hue_fam_entropy)*10\n",
    "        \n",
    "        # rim\n",
    "        cost4 = np.mean((rim_fam - rim)**2)/200\n",
    "        \n",
    "        # total cost\n",
    "        cost = cost1 + cost2 + cost3 + cost4\n",
    "        \n",
    "        # print(f'cost:{cost:.4f},contr:{cost1:.4f},lum:{cost2:.4f},hue:{cost3:.4f},rim:{cost4:.4f}')\n",
    "        # print(time.time())\n",
    "        \n",
    "        return cost\n",
    "    \n",
    "    dp0 = rng.normal(scale = deviation, size = p_fam1.shape)    \n",
    "    \n",
    "    print ('start optimization...')\n",
    "    res = optimize.minimize(cost_fun, dp0, method = op_method, options = options_optimize)\n",
    "    \n",
    "    return res\n",
    "\n"
   ]
  },
  {
   "cell_type": "markdown",
   "id": "553a7c5a-fcd3-417e-a154-afa47e51a4ad",
   "metadata": {},
   "source": [
    "Run them to generate figures"
   ]
  },
  {
   "cell_type": "code",
   "execution_count": null,
   "id": "ea8b0dbe-7c69-4d33-9d79-adb41d8a420f",
   "metadata": {},
   "outputs": [],
   "source": [
    "#%%\n",
    "deviation = 1.5\n",
    "\n",
    "# results = []\n",
    "for i in range(5):\n",
    "    \n",
    "    print (f'face{iface}:')\n",
    "    p_fam1 = p_fam[iface,:]\n",
    "    r = find_low_level_matched_face(p_fam1, deviation)\n",
    "    # results.append(r)\n",
    "    \n",
    "    with open(f'./results/result{iface:02d}_{i:02d}.pickle', 'wb') as f:\n",
    "        pickle.dump(r, f)\n",
    "\n",
    "\n",
    "t_end = time.time()\n",
    "t_diff = t_end - t_start\n",
    "print(f'elapsed time {t_diff} seconds')\n"
   ]
  },
  {
   "cell_type": "code",
   "execution_count": 9,
   "id": "54eae00b-cf56-4bae-b966-663677e84f5a",
   "metadata": {},
   "outputs": [
    {
     "data": {
      "text/plain": [
       "'C:\\\\Users\\\\varunwadia\\\\Documents\\\\PYTHON\\\\FamiliarFaceWork\\\\face model human'"
      ]
     },
     "execution_count": 9,
     "metadata": {},
     "output_type": "execute_result"
    }
   ],
   "source": []
  },
  {
   "cell_type": "code",
   "execution_count": null,
   "id": "ef997dba-2ada-48ad-994f-aa25aa37f52c",
   "metadata": {},
   "outputs": [],
   "source": []
  }
 ],
 "metadata": {
  "kernelspec": {
   "display_name": "Python [conda env:SUAnalysis]",
   "language": "python",
   "name": "conda-env-SUAnalysis-py"
  },
  "language_info": {
   "codemirror_mode": {
    "name": "ipython",
    "version": 3
   },
   "file_extension": ".py",
   "mimetype": "text/x-python",
   "name": "python",
   "nbconvert_exporter": "python",
   "pygments_lexer": "ipython3",
   "version": "3.8.12"
  }
 },
 "nbformat": 4,
 "nbformat_minor": 5
}
