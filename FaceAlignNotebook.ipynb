{
 "cells": [
  {
   "cell_type": "markdown",
   "id": "9645774d-e795-4fef-8cc5-d1109e2cca6d",
   "metadata": {},
   "source": [
    "# Aligning faces to create balanced face stimuli\n",
    "### this is a notebook implementation of the script align_faces.py (largely because of silly argparse issue - see below)\n",
    "\n",
    "#### This notebook takes input images, sets the eyes 45% of the height up the image (hard coded in facealigner - see path using inspect.getfile(FaceAligner) and makes the intereye distance 30% of the image (default) and writes out a 360, 256, 3 (H, W, RGB) image\n",
    "\n",
    "## No background removal yet"
   ]
  },
  {
   "cell_type": "code",
   "execution_count": 1,
   "id": "84702600-739e-4adf-8f5b-a8198515db8b",
   "metadata": {},
   "outputs": [
    {
     "data": {
      "text/plain": [
       "'C:\\\\Users\\\\wadiav\\\\AppData\\\\Roaming\\\\Python\\\\Python39\\\\site-packages\\\\imutils\\\\face_utils\\\\facealigner.py'"
      ]
     },
     "execution_count": 1,
     "metadata": {},
     "output_type": "execute_result"
    }
   ],
   "source": [
    "import os\n",
    "import inspect\n",
    "import matplotlib.pyplot as plt\n",
    "from imutils.face_utils import FaceAligner\n",
    "from imutils.face_utils import rect_to_bb\n",
    "inspect.getfile(FaceAligner)\n",
    "# os.getcwd()"
   ]
  },
  {
   "cell_type": "code",
   "execution_count": null,
   "id": "e5a1ed9c-660c-4e9c-9e9a-a9b70b20706f",
   "metadata": {},
   "outputs": [],
   "source": []
  },
  {
   "cell_type": "code",
   "execution_count": 6,
   "id": "18c16097-fbbc-4fad-b9a8-46647b557b44",
   "metadata": {},
   "outputs": [
    {
     "name": "stdout",
     "output_type": "stream",
     "text": [
      "RR.jpg\n",
      "SH.jpg\n",
      "Snoop.jpg\n",
      "SV.jpg\n",
      "TB.jpg\n"
     ]
    }
   ],
   "source": [
    "import sys\n",
    "import os\n",
    "# sys.argv = ['']\n",
    "\n",
    "\n",
    "# import the necessary packages\n",
    "from imutils.face_utils import FaceAligner\n",
    "from imutils.face_utils import rect_to_bb\n",
    "import argparse\n",
    "import imutils\n",
    "import dlib\n",
    "import cv2\n",
    "\n",
    "\n",
    "\n",
    "# construct the argument parser and parse the arguments\n",
    "ap = argparse.ArgumentParser()\n",
    "ap.add_argument(\"-p\", \"--shape-predictor\", required=True,\n",
    "help=\"path to facial landmark predictor\")\n",
    "ap.add_argument(\"-i\", \"--image\", required=True,\n",
    "help=\"path to input image\")\n",
    "ap.add_argument(\"-o\", \"--output-file\", required=True,\n",
    "help=\"path to written image\")\n",
    "\n",
    "\n",
    "# imPath = os.path.join(os.getcwd(), 'BackgroundRemoval_SegAny\\SingleIm')\n",
    "# imageOutPath = os.path.join(os.getcwd(), 'BackgroundRemoval_SegAny\\SingleIm_Aligned')\n",
    "\n",
    "# imPath = os.path.join(os.getcwd(), 'BackgroundRemoval_SegAny\\FamFaces_Pt_P87CS_2')\n",
    "# imageOutPath = os.path.join(os.getcwd(), 'BackgroundRemoval_SegAny\\FamFaces_Pt_P87CS_2_Aligned')\n",
    "\n",
    "# imPath = os.path.join(os.getcwd(), 'BackgroundRemoval_SegAny\\FamFaces_Pt_P86CS')\n",
    "# imageOutPath = os.path.join(os.getcwd(), 'BackgroundRemoval_SegAny\\FamFaces_Pt_P86CS_Aligned')\n",
    "\n",
    "# imPath = os.path.join(os.getcwd(), 'BackgroundRemoval_SegAny\\P92CS\\FamFaces_Pt_P92CS')\n",
    "# imageOutPath = os.path.join(os.getcwd(), 'BackgroundRemoval_SegAny\\P92CS\\FamFaces_Pt_P92CS_Aligned')\n",
    "\n",
    "# imPath = os.path.join(os.getcwd(), 'BackgroundRemoval_SegAny\\P92CS\\Im')\n",
    "# imageOutPath = os.path.join(os.getcwd(), 'BackgroundRemoval_SegAny\\P92CS\\Im_Aligned')\n",
    "\n",
    "# imPath = os.path.join(os.getcwd(), 'BackgroundRemoval_SegAny\\P98CS\\ExtraFaces_Raw')\n",
    "# imageOutPath = os.path.join(os.getcwd(), 'BackgroundRemoval_SegAny\\P98CS\\ExtraFaces_Aligned')\n",
    "\n",
    "# imPath = os.path.join(os.getcwd(), 'BackgroundRemoval_SegAny\\P98CS\\Im')\n",
    "# imageOutPath = os.path.join(os.getcwd(), 'BackgroundRemoval_SegAny\\P98CS\\ExtraFaces_Aligned')\n",
    "\n",
    "# imPath = os.path.join(os.getcwd(), 'BackgroundRemoval_SegAny\\P99CS\\ExtraFaces_Raw')\n",
    "imPath = os.path.join(os.getcwd(), 'BackgroundRemoval_SegAny\\P99CS\\Im')\n",
    "imageOutPath = os.path.join(os.getcwd(), 'BackgroundRemoval_SegAny\\P99CS\\ExtraFaces_Aligned')\n",
    "if os.path.exists(imageOutPath) is False:\n",
    "    os.mkdir(imageOutPath)\n",
    "    \n",
    "for files in os.listdir(imPath):\n",
    "    print(files)\n",
    "    im_path_in = os.path.join(imPath, files)\n",
    "    # print(im_path_in)\n",
    "    name = files.split('.')\n",
    "    # im_name_out = name[0] + '_H360' + '.' + name[1]\n",
    "    im_name_out = name[0] + '.' + name[1]\n",
    "    im_path_out = os.path.join(imageOutPath, im_name_out) \n",
    "    \n",
    "    argString = '--shape-predictor shape_predictor_68_face_landmarks.dat --image ' + im_path_in + ' '\\\n",
    "    + '--output-file ' + im_path_out \n",
    "    # print(argString)\n",
    "    args = vars(ap.parse_args(argString.split()))\n",
    "    \n",
    "    # initialize dlib's face detector (HOG-based) and then create\n",
    "    # the facial landmark predictor and the face aligner\n",
    "    detector = dlib.get_frontal_face_detector()\n",
    "    predictor = dlib.shape_predictor(args[\"shape_predictor\"])\n",
    "    fa = FaceAligner(predictor, desiredFaceWidth=256, desiredFaceHeight=360)\n",
    "    \n",
    "    # load the input image, resize it, and convert it to grayscale\n",
    "    image = cv2.imread(args[\"image\"])\n",
    "    image = imutils.resize(image, width=800) # is this too large?\n",
    "    gray = cv2.cvtColor(image, cv2.COLOR_BGR2GRAY)\n",
    "\n",
    "        # show the original input image and detect faces in the grayscale\n",
    "    # image\n",
    "    # cv2.imshow(\"Input\", image)\n",
    "    rects = detector(gray, 2)\n",
    "\n",
    "    # loop over the face detections\n",
    "    for rect in rects:\n",
    "        # extract the ROI of the *original* face, then align the face\n",
    "        # using facial landmarks\n",
    "        (x, y, w, h) = rect_to_bb(rect)\n",
    "        faceOrig = imutils.resize(image[y:y + h, x:x + w], width=256)\n",
    "        faceAligned = fa.align(image, gray, rect)\n",
    "\n",
    "        # display the output images\n",
    "        cv2.imwrite(os.path.join(imageOutPath, im_name_out), faceAligned)\n",
    "        # cv2.imshow(\"Original\", faceOrig)\n",
    "        # cv2.imshow(\"Aligned\", faceAligned)\n",
    "        # cv2.waitKey(0)"
   ]
  },
  {
   "cell_type": "code",
   "execution_count": 9,
   "id": "88b7a187-1a5a-4205-89d8-82035a0d3d55",
   "metadata": {},
   "outputs": [
    {
     "data": {
      "text/plain": [
       "rectangles[[(213, 250) (545, 583)]]"
      ]
     },
     "execution_count": 9,
     "metadata": {},
     "output_type": "execute_result"
    }
   ],
   "source": [
    "rects"
   ]
  },
  {
   "cell_type": "markdown",
   "id": "6196a400-92fc-44fa-a6c8-1d52810bef7c",
   "metadata": {},
   "source": [
    "#### Implementation of script call in loop. Technically cleaner but doesn't work yet because I haven't figured out how to pass \n",
    "#### arguments to argparses by reference and not by value \n",
    "#### eg. im_path_name = '100.jpg' if I use align_faces.py --image im_path_name the arg it will read is 'im_path_name' not the\n",
    "#### value inside im_path_name"
   ]
  },
  {
   "cell_type": "raw",
   "id": "bde19b3a-d022-4214-b295-baeccd864312",
   "metadata": {},
   "source": [
    "import sys\n",
    "import os\n",
    "import cv2\n",
    "\n",
    "imPath = os.path.join(os.getcwd(), 'images')\n",
    "imageOutPath = os.getcwd() + r'\\aligned'\n",
    "if os.path.exists(imageOutPath) is False:\n",
    "    os.mkdir(imageOutPath)\n",
    "    \n",
    "for files in os.listdir(imPath):\n",
    "    # print(files)\n",
    "    im_path_in = os.path.join(imPath, files)\n",
    "    # print(im_path_in)\n",
    "    name = files.split('.')\n",
    "    im_name_out = name[0] + '_H360' + '.' + name[1]\n",
    "    im_path_out = os.path.join(imageOutPath, im_name_out) \n",
    "    \n",
    "    %run align_faces.py \\\n",
    "    --shape-predictor shape_predictor_68_face_landmarks.dat \\\n",
    "    --image im_path_in \\\n",
    "    --output-path im_path_out[0]\n"
   ]
  },
  {
   "cell_type": "raw",
   "id": "fc7e53f3-4a8e-44a8-9a64-7cdb48ce26f5",
   "metadata": {},
   "source": [
    "cv2.destroyAllWindows()"
   ]
  },
  {
   "cell_type": "code",
   "execution_count": null,
   "id": "5fc4f4d0-fcde-4015-8aed-6f4a8d1d526b",
   "metadata": {},
   "outputs": [],
   "source": []
  }
 ],
 "metadata": {
  "kernelspec": {
   "display_name": "Python 3 (ipykernel)",
   "language": "python",
   "name": "python3"
  },
  "language_info": {
   "codemirror_mode": {
    "name": "ipython",
    "version": 3
   },
   "file_extension": ".py",
   "mimetype": "text/x-python",
   "name": "python",
   "nbconvert_exporter": "python",
   "pygments_lexer": "ipython3",
   "version": "3.9.12"
  }
 },
 "nbformat": 4,
 "nbformat_minor": 5
}
