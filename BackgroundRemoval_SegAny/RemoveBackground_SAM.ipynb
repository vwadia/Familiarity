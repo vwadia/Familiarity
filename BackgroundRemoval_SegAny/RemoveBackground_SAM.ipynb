{
 "cells": [
  {
   "cell_type": "markdown",
   "id": "4a44a3d5-f96a-47db-aca2-1e3fbbb987d9",
   "metadata": {},
   "source": [
    "#### This notebook uses code from notebooks/automatic_mask_generator_example\n",
    "#### To load in images, run the default SAM model to create masks\n",
    "#### and use those masks to change the background of the image"
   ]
  },
  {
   "cell_type": "markdown",
   "id": "c0b71431",
   "metadata": {},
   "source": [
    "## Environment Set-up - Colab"
   ]
  },
  {
   "cell_type": "markdown",
   "id": "47e5a78f",
   "metadata": {},
   "source": [
    "If running locally using jupyter, first install `segment_anything` in your environment using the [installation instructions](https://github.com/facebookresearch/segment-anything#installation) in the repository. If running from Google Colab, set `using_colab=True` below and run the cell. In Colab, be sure to select 'GPU' under 'Edit'->'Notebook Settings'->'Hardware accelerator'."
   ]
  },
  {
   "cell_type": "code",
   "execution_count": 1,
   "id": "4fe300fb",
   "metadata": {},
   "outputs": [],
   "source": [
    "using_colab = False"
   ]
  },
  {
   "cell_type": "code",
   "execution_count": 2,
   "id": "0685a2f5",
   "metadata": {},
   "outputs": [],
   "source": [
    "if using_colab:\n",
    "    import torch\n",
    "    import torchvision\n",
    "    print(\"PyTorch version:\", torch.__version__)\n",
    "    print(\"Torchvision version:\", torchvision.__version__)\n",
    "    print(\"CUDA is available:\", torch.cuda.is_available())\n",
    "    import sys\n",
    "    # !{sys.executable} -m pip install opencv-python matplotlib\n",
    "    # !{sys.executable} -m pip install 'git+https://github.com/facebookresearch/segment-anything.git'\n",
    "    \n",
    "    # !mkdir images\n",
    "    # !wget -P images https://raw.githubusercontent.com/facebookresearch/segment-anything/main/notebooks/images/dog.jpg\n",
    "        \n",
    "    # !wget https://dl.fbaipublicfiles.com/segment_anything/sam_vit_h_4b8939.pth"
   ]
  },
  {
   "cell_type": "markdown",
   "id": "fd2bc687",
   "metadata": {},
   "source": [
    "## Set-up - Local"
   ]
  },
  {
   "cell_type": "code",
   "execution_count": 3,
   "id": "560725a2",
   "metadata": {},
   "outputs": [],
   "source": [
    "import numpy as np\n",
    "import torch\n",
    "import matplotlib.pyplot as plt\n",
    "import cv2\n",
    "import time\n",
    "import os\n",
    "os.environ[\"KMP_DUPLICATE_LIB_OK\"]=\"TRUE\" # this is so that inline plotting doesn't crash the kernel"
   ]
  },
  {
   "cell_type": "code",
   "execution_count": 4,
   "id": "12032b22-1ea5-473c-b9e7-7d1384c71ee5",
   "metadata": {},
   "outputs": [
    {
     "data": {
      "text/plain": [
       "'C:\\\\Users\\\\wadiav\\\\Documents\\\\PYTHON\\\\Old_FaceFamiliarity_Code\\\\BackgroundRemoval_SegAny'"
      ]
     },
     "execution_count": 4,
     "metadata": {},
     "output_type": "execute_result"
    }
   ],
   "source": [
    "os.getcwd()"
   ]
  },
  {
   "cell_type": "raw",
   "id": "8718a4d0-3a73-479b-9f6b-4ea3fe4f50a4",
   "metadata": {
    "jupyter": {
     "outputs_hidden": true
    },
    "tags": []
   },
   "source": [
    "print(f\"Is CUDA supported by this system? {torch.cuda.is_available()}\")\n",
    "print(f\"CUDA version: {torch.version.cuda}\")\n",
    "  \n",
    "# Storing ID of current CUDA device\n",
    "cuda_id = torch.cuda.current_device()\n",
    "print(f\"ID of current CUDA device: {torch.cuda.current_device()}\")\n",
    "        \n",
    "print(f\"Name of current CUDA device: {torch.cuda.get_device_name(cuda_id)}\")"
   ]
  },
  {
   "cell_type": "code",
   "execution_count": 5,
   "id": "74b6e5f0",
   "metadata": {},
   "outputs": [],
   "source": [
    "def show_anns(anns):\n",
    "    if len(anns) == 0:\n",
    "        return\n",
    "    sorted_anns = sorted(anns, key=(lambda x: x['area']), reverse=True)\n",
    "    ax = plt.gca()\n",
    "    ax.set_autoscale_on(False)\n",
    "\n",
    "    img = np.ones((sorted_anns[0]['segmentation'].shape[0], sorted_anns[0]['segmentation'].shape[1], 4))\n",
    "    img[:,:,3] = 0\n",
    "    for ann in sorted_anns:\n",
    "        m = ann['segmentation']\n",
    "        color_mask = np.concatenate([np.random.random(3), [0.35]])\n",
    "        img[m] = color_mask\n",
    "    ax.imshow(img)"
   ]
  },
  {
   "cell_type": "raw",
   "id": "3e6bac2e-bfd3-4a7e-a7dc-417984ca1a30",
   "metadata": {},
   "source": [
    "image.shape"
   ]
  },
  {
   "cell_type": "raw",
   "id": "d0b919ec-487f-484a-bbfe-2e15e2ee3767",
   "metadata": {
    "tags": []
   },
   "source": [
    "# this crashes the kernel\n",
    "plt.figure(figsize=(10,10))\n",
    "plt.imshow(image)\n",
    "plt.axis('off')\n",
    "plt.show()"
   ]
  },
  {
   "cell_type": "markdown",
   "id": "b8c2824a",
   "metadata": {},
   "source": [
    "## Automatic mask generation"
   ]
  },
  {
   "cell_type": "markdown",
   "id": "d9ef74c5",
   "metadata": {},
   "source": [
    "To run automatic mask generation, provide a SAM model to the `SamAutomaticMaskGenerator` class. Set the path below to the SAM checkpoint. Running on CUDA and with the default model is recommended."
   ]
  },
  {
   "cell_type": "code",
   "execution_count": 6,
   "id": "1848a108",
   "metadata": {},
   "outputs": [
    {
     "ename": "ModuleNotFoundError",
     "evalue": "No module named 'segment_anything'",
     "output_type": "error",
     "traceback": [
      "\u001b[1;31m---------------------------------------------------------------------------\u001b[0m",
      "\u001b[1;31mModuleNotFoundError\u001b[0m                       Traceback (most recent call last)",
      "Input \u001b[1;32mIn [6]\u001b[0m, in \u001b[0;36m<cell line: 4>\u001b[1;34m()\u001b[0m\n\u001b[0;32m      2\u001b[0m \u001b[38;5;28;01mimport\u001b[39;00m \u001b[38;5;21;01msys\u001b[39;00m\n\u001b[0;32m      3\u001b[0m sys\u001b[38;5;241m.\u001b[39mpath\u001b[38;5;241m.\u001b[39mappend(\u001b[38;5;124m\"\u001b[39m\u001b[38;5;124m..\u001b[39m\u001b[38;5;124m\"\u001b[39m)\n\u001b[1;32m----> 4\u001b[0m \u001b[38;5;28;01mfrom\u001b[39;00m \u001b[38;5;21;01msegment_anything\u001b[39;00m \u001b[38;5;28;01mimport\u001b[39;00m sam_model_registry, SamAutomaticMaskGenerator, SamPredictor\n\u001b[0;32m      6\u001b[0m sam_checkpoint \u001b[38;5;241m=\u001b[39m \u001b[38;5;124m\"\u001b[39m\u001b[38;5;124msam_vit_h_4b8939.pth\u001b[39m\u001b[38;5;124m\"\u001b[39m\n\u001b[0;32m      7\u001b[0m model_type \u001b[38;5;241m=\u001b[39m \u001b[38;5;124m\"\u001b[39m\u001b[38;5;124mvit_h\u001b[39m\u001b[38;5;124m\"\u001b[39m\n",
      "\u001b[1;31mModuleNotFoundError\u001b[0m: No module named 'segment_anything'"
     ]
    }
   ],
   "source": [
    "t1 = time.time()\n",
    "import sys\n",
    "sys.path.append(\"..\")\n",
    "from segment_anything import sam_model_registry, SamAutomaticMaskGenerator, SamPredictor\n",
    "\n",
    "sam_checkpoint = \"sam_vit_h_4b8939.pth\"\n",
    "model_type = \"vit_h\"\n",
    "\n",
    "device = \"cpu\" # GPU doesn't have enough compute and keep running out of memory\n",
    "\n",
    "sam = sam_model_registry[model_type](checkpoint=sam_checkpoint)\n",
    "sam.to(device=device)\n",
    "\n",
    "# specific params for faces\n",
    "mask_generator = SamAutomaticMaskGenerator(\n",
    "    sam, \n",
    "    points_per_batch=1024, \n",
    "    points_per_side=2,\n",
    "    min_mask_region_area=10000\n",
    ")\n",
    "# mask_generator = SamAutomaticMaskGenerator(sam)\n",
    "t2 = time.time()\n",
    "\n",
    "print(t2-t1)"
   ]
  },
  {
   "cell_type": "code",
   "execution_count": null,
   "id": "40b7fbd0-5767-4477-ba22-b818a4c4379e",
   "metadata": {},
   "outputs": [],
   "source": [
    "mask_generator.point_grids"
   ]
  },
  {
   "cell_type": "code",
   "execution_count": null,
   "id": "582cef29-3697-40e5-9f12-904fd171a8d6",
   "metadata": {},
   "outputs": [],
   "source": [
    "imPath = os.path.join(os.getcwd(), 'P92CS\\FamFaces_Pt_P92CS_Aligned')\n",
    "imPath"
   ]
  },
  {
   "cell_type": "markdown",
   "id": "d6b1ea21",
   "metadata": {},
   "source": [
    "Load in all images and run `generate` on them in turn"
   ]
  },
  {
   "cell_type": "markdown",
   "id": "14501b40-fe0f-4a5f-81f6-189f4fc7bbb4",
   "metadata": {},
   "source": [
    "#### NOTE: This takes a long time - do this night before"
   ]
  },
  {
   "cell_type": "code",
   "execution_count": null,
   "id": "f949f9d4-7bca-477e-a192-76d15250d255",
   "metadata": {
    "tags": []
   },
   "outputs": [],
   "source": [
    "# imPath = os.path.join(os.getcwd(), 'CelebFaces_Pt_Varun_Aligned_100')\n",
    "# imageOutPath = os.path.join(os.getcwd(), 'CelebFaces_Pt_Varun_Processed_100')\n",
    "\n",
    "# imPath = os.path.join(os.getcwd(), 'FewIms_Aligned')\n",
    "# imageOutPath = os.path.join(os.getcwd(), 'FewIms_Processed')\n",
    "\n",
    "# imPath = os.path.join(os.getcwd(), 'FamFaces_Pt_P87CS_2_Aligned')\n",
    "# imageOutPath = os.path.join(os.getcwd(), 'FamFaces_Pt_P87CS_2_Processed')\n",
    "\n",
    "# imPath = os.path.join(os.getcwd(), 'FamFaces_Pt_P86CS_Aligned')\n",
    "# imageOutPath = os.path.join(os.getcwd(), 'FamFaces_Pt_P86CS_Processed')\n",
    "\n",
    "# imPath = os.path.join(os.getcwd(), 'P92CS\\FamFaces_Pt_P92CS_Aligned')\n",
    "# imageOutPath = os.path.join(os.getcwd(), 'P92CS\\FamFaces_Pt_P92CS_Processed')\n",
    "\n",
    "imPath = os.path.join(os.getcwd(), 'P98CS\\Im_Aligned')\n",
    "# imPath = os.path.join(os.getcwd(), 'P98CS\\ExtraFaces_Aligned')\n",
    "imageOutPath = os.path.join(os.getcwd(), 'P98CS\\ExtraFaces_Processed')\n",
    "\n",
    "# CHANGE THE OUTNAME OF MASKS AT THE BOTTOM OF LOOP TO MATCH FOLDER NAMES\n",
    "if os.path.exists(imageOutPath) is False:\n",
    "    os.mkdir(imageOutPath)\n",
    "    \n",
    "t1 = time.time()\n",
    "im_mask = list() \n",
    "ctr = 0 # lol python\n",
    "\n",
    "for files in os.listdir(imPath):\n",
    "    \n",
    "    # read in file\n",
    "    im_path_in = os.path.join(imPath, files)\n",
    "    image = cv2.imread(im_path_in)\n",
    "    image = cv2.cvtColor(image, cv2.COLOR_BGR2RGB)\n",
    "    \n",
    "    # rename file\n",
    "    name = files.split('.')\n",
    "    prefix = name[0]\n",
    "    im_name_out = prefix.zfill(4) + '.' + name[1]\n",
    "    im_path_out = os.path.join(imageOutPath, im_name_out) \n",
    "    # print(im_path_out)\n",
    "    \n",
    "    # create masks and save\n",
    "    masks = mask_generator.generate(image) # create all masks\n",
    "    segsum = []\n",
    "    for i in range(len(masks)):\n",
    "        segsum.append(sum(sum(masks[i]['segmentation'])))\n",
    "    \n",
    "    chosenMask = max(enumerate(segsum),key=lambda x: x[1])[0]\n",
    "    newseg = masks[chosenMask]['segmentation'] # choose the last one\n",
    "    im_mask.append(newseg.astype(np.uint8)) # change variable time \n",
    "    ctr = ctr + 1\n",
    "    print(\"Finished for image \" + str(ctr))\n",
    "\n",
    "\n",
    "# outName = 'Mamelak_FamMask_P98CS_' + str(len(os.listdir(imPath))) + '.npy'  \n",
    "outName = 'TJMiller_FamMask_P98CS_' + str(len(os.listdir(imPath))) + '.npy'  \n",
    "# outName = 'FamMasks_P98CS_' + str(len(os.listdir(imPath))) + '.npy'  \n",
    "# outName = 'FamMasks_P92CS_' + str(len(os.listdir(imPath))) + '.npy'  \n",
    "# outName = 'FewMasks_P86CS_' + str(len(os.listdir(imPath))) + '.npy'  \n",
    "np.save(outName,  im_mask)\n",
    "t2 = time.time()\n",
    "print(t2 - t1)"
   ]
  },
  {
   "cell_type": "code",
   "execution_count": null,
   "id": "52017bcc-a460-4cc0-86cb-7515b5dde756",
   "metadata": {},
   "outputs": [],
   "source": [
    "len(im_mask)"
   ]
  },
  {
   "cell_type": "code",
   "execution_count": null,
   "id": "977bdff1-c323-4155-b858-2670142d4896",
   "metadata": {},
   "outputs": [],
   "source": [
    "outName"
   ]
  },
  {
   "cell_type": "markdown",
   "id": "ee0b6793-18e3-4348-9a85-15e09b7b35be",
   "metadata": {},
   "source": [
    "### Using the masks to create background subtracted pictures"
   ]
  },
  {
   "cell_type": "code",
   "execution_count": null,
   "id": "53f369cc-28c9-48b8-9fe0-830d37eda357",
   "metadata": {
    "tags": []
   },
   "outputs": [],
   "source": [
    "# imPath = os.path.join(os.getcwd(), 'CelebFaces_Pt_Varun_Aligned_100')\n",
    "# imageOutPath = os.path.join(os.getcwd(), 'CelebFaces_Pt_Varun_Processed_100')\n",
    "\n",
    "# imPath = os.path.join(os.getcwd(), 'FamFaces_Pt_P87CS_2_Aligned')\n",
    "# imPath = os.path.join(os.getcwd(), 'FewIms_Aligned')\n",
    "# imageOutPath = os.path.join(os.getcwd(), 'FamFaces_Pt_P87CS_2_Processed')\n",
    "\n",
    "# imPath = os.path.join(os.getcwd(), 'FamFaces_Pt_P86CS_Aligned')\n",
    "# imageOutPath = os.path.join(os.getcwd(), 'FamFaces_Pt_P86CS_Processed')\n",
    "\n",
    "# imPath = os.path.join(os.getcwd(), 'P92CS\\FamFaces_Pt_P92CS_Aligned')\n",
    "# imageOutPath = os.path.join(os.getcwd(), 'P92CS\\FamFaces_Pt_P92CS_Processed')\n",
    "\n",
    "# imPath = os.path.join(os.getcwd(), 'P98CS\\ExtraFaces_Aligned')\n",
    "imPath = os.path.join(os.getcwd(), 'P98CS\\Im_Aligned')\n",
    "imageOutPath = os.path.join(os.getcwd(), 'P98CS\\ExtraFaces_Processed')\n",
    "\n",
    "if os.path.exists(imageOutPath) is False:\n",
    "    os.mkdir(imageOutPath)\n",
    "\n",
    "# outName = 'FamMasks_' + str(len(os.listdir(imPath))) + '.npy'\n",
    "# outName = 'FamMasks_P87CS_2_' + str(len(os.listdir(imPath))) + '.npy'  \n",
    "\n",
    "im_mask = np.load(outName)\n",
    "colors = [192, 192, 192]\n",
    "ctr = 0\n",
    "\n",
    "for files in os.listdir(imPath):\n",
    "    # read in the image\n",
    "    im_path_in = os.path.join(imPath, files)\n",
    "    image = cv2.imread(im_path_in)\n",
    "    image = cv2.cvtColor(image, cv2.COLOR_BGR2RGB)\n",
    "    \n",
    "    # name output file\n",
    "    name = files.split('.')\n",
    "    prefix = name[0]\n",
    "    im_name_out = prefix.zfill(4) + '.' + name[1]\n",
    "    im_path_out = os.path.join(imageOutPath, im_name_out) \n",
    "    \n",
    "    # read in the mask\n",
    "    mask_tile = im_mask[ctr].astype(np.uint8)\n",
    "    mask_tile = cv2.cvtColor(mask_tile,cv2.COLOR_GRAY2RGB)\n",
    "    mask_tile = mask_tile*255 # this is a stupid hack but sort of works\n",
    "\n",
    "    out = cv2.subtract(mask_tile, image)\n",
    "    out[np.where((out == [0, 0, 0]).all(axis = 2))] = [colors]\n",
    "    out = cv2.cvtColor(out, cv2.COLOR_BGR2RGB)\n",
    "    result = np.where(mask_tile, image, out)\n",
    "    \n",
    "    # print the result\n",
    "    result = cv2.cvtColor(result, cv2.COLOR_BGR2RGB) # else they print in BGR\n",
    "    cv2.imwrite(im_path_out, result)\n",
    "    print(\"Finished for image \" + str(ctr))\n",
    "    ctr = ctr + 1\n"
   ]
  },
  {
   "cell_type": "code",
   "execution_count": null,
   "id": "e97cb8d3-972d-489c-ba72-9720b0d5a3e1",
   "metadata": {
    "tags": []
   },
   "outputs": [],
   "source": [
    "for files in os.listdir(imPath):\n",
    "    name = files.split('.')\n",
    "    prefix = name[0]\n",
    "    if prefix in ['3505', '3029', '3033']:\n",
    "        print(files)"
   ]
  },
  {
   "cell_type": "code",
   "execution_count": null,
   "id": "f05bb1a6-8e5a-41ec-b516-b599095301db",
   "metadata": {},
   "outputs": [],
   "source": [
    "type(prefix)"
   ]
  },
  {
   "cell_type": "code",
   "execution_count": null,
   "id": "d30b8ade-7e69-4065-a9fe-334706e90c09",
   "metadata": {},
   "outputs": [],
   "source": [
    "imageOutPath"
   ]
  },
  {
   "cell_type": "raw",
   "id": "41d1193d-d907-42c6-b0ca-12064daa524b",
   "metadata": {},
   "source": [
    "print(len(masks))\n",
    "print(masks[0].keys())"
   ]
  },
  {
   "cell_type": "raw",
   "id": "c70325b7-6542-4d5c-8a21-51b78a340278",
   "metadata": {},
   "source": [
    "masks[0]['segmentation'].shape"
   ]
  },
  {
   "cell_type": "raw",
   "id": "e445b64f-623e-474e-8296-07a4b92cddfb",
   "metadata": {},
   "source": [
    "np.shape(newseg)"
   ]
  },
  {
   "cell_type": "raw",
   "id": "0ec739e5-c2bc-4e65-90e8-360971d6f442",
   "metadata": {},
   "source": [
    "#### Looking at the various masks"
   ]
  },
  {
   "cell_type": "raw",
   "id": "561ab4a4-ee78-43cd-bca8-5787edafeea5",
   "metadata": {},
   "source": [
    "# this crashes the kernel for some annoying reason\n",
    "plt.figure(figsize=(10,10))\n",
    "plt.imshow(image)\n",
    "show_anns(masks)\n",
    "plt.axis('off')\n",
    "plt.show() "
   ]
  },
  {
   "cell_type": "markdown",
   "id": "5c7b162e-e792-43e2-b60a-189f118b8d55",
   "metadata": {},
   "source": [
    "## Example image"
   ]
  },
  {
   "cell_type": "code",
   "execution_count": null,
   "id": "abd04bb2-9110-4e9a-8ab3-9ecf9bfd6a7a",
   "metadata": {},
   "outputs": [],
   "source": [
    "# imPath = os.path.join(os.getcwd(), 'P92CS\\Im_Aligned')\n",
    "imPath = os.path.join(os.getcwd(), 'P98CS\\ExtraFaces_Aligned')\n",
    "\n",
    "# im_path_in = os.path.join(imPath, '3407.jpg')\n",
    "im_path_in = os.path.join(imPath, 'MileyC.jpg')\n",
    "image = cv2.imread(im_path_in)\n",
    "# image = cv2.imread('FamFaces_Pt_P87CS_2_Aligned/3009.jpg')\n",
    "image = cv2.cvtColor(image, cv2.COLOR_BGR2RGB)"
   ]
  },
  {
   "cell_type": "code",
   "execution_count": null,
   "id": "50a4815f-635d-4ffe-aa42-d08dddf720e3",
   "metadata": {
    "tags": []
   },
   "outputs": [],
   "source": [
    "plt.figure(figsize=(5,5))\n",
    "plt.imshow(image)"
   ]
  },
  {
   "cell_type": "code",
   "execution_count": null,
   "id": "45b2ed88-a6ac-4468-a18c-7b3b5d0c7f29",
   "metadata": {},
   "outputs": [],
   "source": [
    "# specific params for faces\n",
    "mask_generator = SamAutomaticMaskGenerator(\n",
    "    sam, \n",
    "    points_per_batch=1024, \n",
    "    points_per_side=4,\n",
    "    min_mask_region_area=10000\n",
    ")\n",
    "masks = mask_generator.generate(image) # create all masks\n",
    "len(masks)"
   ]
  },
  {
   "cell_type": "code",
   "execution_count": null,
   "id": "81a5be99-4b3f-4f88-8f7e-35a89c677e51",
   "metadata": {
    "tags": []
   },
   "outputs": [],
   "source": [
    "newseg = list()\n",
    "for i in range(len(masks)):\n",
    "    # if np.array_equal(masks[i]['segmentation'], masks[i+1]['segmentation']) is False:\n",
    "        newseg.append(masks[i]['segmentation'].astype(np.uint8))"
   ]
  },
  {
   "cell_type": "code",
   "execution_count": null,
   "id": "6138bac9-02c2-455a-85b8-206363b06a52",
   "metadata": {},
   "outputs": [],
   "source": [
    "segsum = []\n",
    "for i in range(len(masks)):\n",
    "    segsum.append(sum(sum(masks[i]['segmentation'])))\n",
    "    \n",
    "chosenMask = max(enumerate(segsum),key=lambda x: x[1])[0]\n",
    "chosenMask"
   ]
  },
  {
   "cell_type": "code",
   "execution_count": null,
   "id": "c8c7506e-2b3a-4cd7-9a0c-31e8aa77f5ed",
   "metadata": {},
   "outputs": [],
   "source": [
    "# newseg = masks[4]['segmentation'] +masks[0]['segmentation'] # choose the last one\n",
    "# newseg = masks[3]['segmentation'] # choose the last one\n",
    "newseg = masks[chosenMask]['segmentation']"
   ]
  },
  {
   "cell_type": "code",
   "execution_count": null,
   "id": "83debb4f-977d-422f-b54b-35573c6dd64b",
   "metadata": {},
   "outputs": [],
   "source": [
    "max(t1)"
   ]
  },
  {
   "cell_type": "code",
   "execution_count": null,
   "id": "906afa4e-9b9c-4043-8ef9-8a1be8a85ccc",
   "metadata": {},
   "outputs": [],
   "source": [
    "type(im_mask[0])"
   ]
  },
  {
   "cell_type": "code",
   "execution_count": null,
   "id": "db2fa3be-7b35-4bb3-a2af-12720a76cc75",
   "metadata": {
    "tags": []
   },
   "outputs": [],
   "source": [
    "# in doggie case masks[0]['segmentation'] is what we want\n",
    "# For faces maybe use newseg[-1]? \n",
    "# immask = newseg[0].astype(np.uint8) + newseg[1].astype(np.uint8)\n",
    "immask = newseg.astype(np.uint8)\n",
    "plt.figure(figsize=(5,5))\n",
    "plt.imshow(immask)"
   ]
  },
  {
   "cell_type": "code",
   "execution_count": null,
   "id": "c7db9e86-0f43-479d-8d91-3371772c6ba6",
   "metadata": {
    "tags": []
   },
   "outputs": [],
   "source": [
    "colors = [192, 192, 192]\n",
    "ori_img = image\n",
    "# mask_tile = np.tile(im_mask[:, :, np.newaxis], [1, 1, 3])\n",
    "mask_tile = cv2.cvtColor(immask,cv2.COLOR_GRAY2RGB)\n",
    "mask_tile = mask_tile*255 # this is a stupid hack but sort of works\n",
    "\n",
    "obtain_img = cv2.subtract(mask_tile, ori_img)"
   ]
  },
  {
   "cell_type": "code",
   "execution_count": null,
   "id": "9ed379a8-ea6f-4d33-9c7b-982f5fea470c",
   "metadata": {},
   "outputs": [],
   "source": [
    "out = obtain_img\n",
    "out[np.where((out == [0, 0, 0]).all(axis = 2))] = [colors]\n",
    "out = cv2.cvtColor(out, cv2.COLOR_BGR2RGB)\n",
    "result = np.where(mask_tile, ori_img, out)"
   ]
  },
  {
   "cell_type": "code",
   "execution_count": null,
   "id": "9d45a48c-b71f-47da-b6ec-bfdbc1d618ca",
   "metadata": {
    "tags": []
   },
   "outputs": [],
   "source": [
    "plt.figure(figsize=(10,10))\n",
    "plt.imshow(result)"
   ]
  },
  {
   "cell_type": "markdown",
   "id": "c2059ac0-866b-4264-8043-2e645fe62fbd",
   "metadata": {},
   "source": [
    "### Now print indiv fig if desired"
   ]
  },
  {
   "cell_type": "code",
   "execution_count": null,
   "id": "dfa35b74-e28e-4532-9cee-3a7b41c85266",
   "metadata": {},
   "outputs": [],
   "source": [
    "im_path_out = os.path.join(imageOutPath, 'MileyC.jpg') \n",
    "im_path_out"
   ]
  },
  {
   "cell_type": "code",
   "execution_count": null,
   "id": "4262d005-2ba2-4de9-93ab-7c17ca11c6fc",
   "metadata": {},
   "outputs": [],
   "source": [
    "result = cv2.cvtColor(result, cv2.COLOR_BGR2RGB)\n",
    "cv2.imwrite(im_path_out, result)"
   ]
  },
  {
   "cell_type": "markdown",
   "id": "d4ab61d7-e878-4b1a-8973-c179d0f2d17f",
   "metadata": {},
   "source": [
    "### Use the mask to change the background and output the new image"
   ]
  },
  {
   "cell_type": "markdown",
   "id": "00b3d6b2",
   "metadata": {},
   "source": [
    "## Automatic mask generation options"
   ]
  },
  {
   "cell_type": "markdown",
   "id": "183de84e",
   "metadata": {},
   "source": [
    "There are several tunable parameters in automatic mask generation that control how densely points are sampled and what the thresholds are for removing low quality or duplicate masks. Additionally, generation can be automatically run on crops of the image to get improved performance on smaller objects, and post-processing can remove stray pixels and holes. Here is an example configuration that samples more masks:"
   ]
  },
  {
   "cell_type": "raw",
   "id": "5fdbe6b7-594b-404f-8d75-375b659a9593",
   "metadata": {},
   "source": [
    "mask_generator_2 = SamAutomaticMaskGenerator(\n",
    "    model=sam,\n",
    "    points_per_side=,\n",
    "    pred_iou_thresh=0.86,\n",
    "    stability_score_thresh=0.5,\n",
    "    crop_n_layers=1,\n",
    "    crop_n_points_downscale_factor=4,\n",
    "    min_mask_region_area=200,  # Requires open-cv to run post-processing\n",
    ")"
   ]
  },
  {
   "cell_type": "raw",
   "id": "188e7ef4-d703-4216-ab0d-55a14c4f1944",
   "metadata": {},
   "source": [
    "mask_generator_2 = SamAutomaticMaskGenerator(\n",
    "    model=sam,\n",
    "    points_per_side=2,\n",
    "    pred_iou_thresh=0.86,\n",
    "    stability_score_thresh=0.99,\n",
    "    crop_n_layers=1,\n",
    "    crop_n_points_downscale_factor=2,\n",
    "    min_mask_region_area=200,  # Requires open-cv to run post-processing\n",
    ")"
   ]
  },
  {
   "cell_type": "raw",
   "id": "07af6976-bff3-4606-ba8e-23bdc1a088ff",
   "metadata": {},
   "source": [
    "t1 = time.time()\n",
    "masks2 = mask_generator_2.generate(image) # this takes several minutes - don't need this\n",
    "t2 = time.time()\n",
    "print(t2-t1)"
   ]
  },
  {
   "cell_type": "raw",
   "id": "fdaa04c0-434e-4fda-81b2-c5961ec2bd62",
   "metadata": {},
   "source": [
    "len(masks2)"
   ]
  },
  {
   "cell_type": "raw",
   "id": "b81f27a2-a012-441e-82cc-ea1626939339",
   "metadata": {},
   "source": [
    "plt.figure(figsize=(10,10))\n",
    "plt.imshow(image)\n",
    "show_anns(masks2)\n",
    "plt.axis('off')\n",
    "plt.show() "
   ]
  },
  {
   "cell_type": "code",
   "execution_count": null,
   "id": "8c937160",
   "metadata": {},
   "outputs": [],
   "source": []
  }
 ],
 "metadata": {
  "kernelspec": {
   "display_name": "SUAnalysis",
   "language": "python",
   "name": "suanalysis"
  },
  "language_info": {
   "codemirror_mode": {
    "name": "ipython",
    "version": 3
   },
   "file_extension": ".py",
   "mimetype": "text/x-python",
   "name": "python",
   "nbconvert_exporter": "python",
   "pygments_lexer": "ipython3",
   "version": "3.9.12"
  }
 },
 "nbformat": 4,
 "nbformat_minor": 5
}
