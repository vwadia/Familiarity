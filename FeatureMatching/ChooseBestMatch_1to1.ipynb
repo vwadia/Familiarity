{
 "cells": [
  {
   "cell_type": "code",
   "execution_count": 1,
   "id": "a4bea617-7d82-4be6-9539-cab77df40a7c",
   "metadata": {},
   "outputs": [],
   "source": [
    "# -*- coding: utf-8 -*-\n",
    "\n",
    "import pickle\n",
    "import os\n",
    "import numpy as np\n",
    "\n",
    "from scipy import stats\n",
    "from scipy import io\n",
    "\n",
    "#%%\n",
    "# p_fam = np.load('./all_face_features_60_20d_norm.npy')\n",
    "p_fam = io.loadmat('params_fam_100d.mat')\n",
    "p_fam = p_fam['p_fam']\n",
    "#%% get best faces\n",
    "\n",
    "import fnmatch\n"
   ]
  },
  {
   "cell_type": "code",
   "execution_count": 2,
   "id": "7adfae91-b4d5-4f46-ad58-7476ac1d36d5",
   "metadata": {},
   "outputs": [],
   "source": [
    "# data_folder = 'results_NM_1kiter_dev1.5'; deviation = 1.5\n",
    "# data_folder = 'results_BFGS_10iter_dev1.5'; deviation = 1.5\n",
    "data_folder = 'results_BFGS_1kiter_dev1.5'; deviation = 1.5\n",
    "\n",
    "n_repeats = 5\n",
    "\n",
    "\n",
    "def get_costs(filename):\n",
    "    \n",
    "    i = int(filename[6:8])\n",
    "    j = int(filename[9:11])\n",
    "    \n",
    "    file = os.path.join(data_folder,filename)\n",
    "    \n",
    "    with open(file, 'rb') as f:\n",
    "        r = pickle.load(f)\n",
    "\n",
    "    cost = r.fun\n",
    "    \n",
    "    return i, j, cost"
   ]
  },
  {
   "cell_type": "code",
   "execution_count": 9,
   "id": "3f1437db-8ed3-4334-b48b-936b0a407beb",
   "metadata": {},
   "outputs": [],
   "source": [
    "\n",
    "files = os.listdir(data_folder)\n",
    "files = fnmatch.filter(files,'*.pickle')\n",
    "\n",
    "nfile = len(files)\n",
    "\n",
    "costs = np.zeros((1, nfile)) \n",
    "for k in range(nfile):\n",
    "    i, j, c = get_costs(files[k])\n",
    "    # print(i, j)\n",
    "    costs[i,j] = c\n",
    "\n",
    "index_selected = np.argmin(costs,axis=1)\n"
   ]
  },
  {
   "cell_type": "code",
   "execution_count": 10,
   "id": "b5ee146f-1528-4262-af22-477d19542028",
   "metadata": {},
   "outputs": [
    {
     "data": {
      "text/plain": [
       "array([[13.05780996,  3.77912932,  1.95621091]])"
      ]
     },
     "execution_count": 10,
     "metadata": {},
     "output_type": "execute_result"
    }
   ],
   "source": [
    "costs"
   ]
  },
  {
   "cell_type": "code",
   "execution_count": null,
   "id": "7e46006e-01c1-4b54-9233-3e86933e9700",
   "metadata": {},
   "outputs": [],
   "source": [
    "d = np.zeros((1,100))\n",
    "i = 0\n",
    "    \n",
    "j = index_selected[i]\n",
    "filename = f'result{i:02d}_{j:02d}.pickle'\n",
    "file = os.path.join(data_folder,filename)\n",
    "\n"
   ]
  },
  {
   "cell_type": "code",
   "execution_count": null,
   "id": "01e4221b-151c-44b4-9356-3bad9a8dbce0",
   "metadata": {},
   "outputs": [],
   "source": [
    "file"
   ]
  },
  {
   "cell_type": "code",
   "execution_count": null,
   "id": "e02a7eec-104c-4034-8815-4c6187795e7d",
   "metadata": {},
   "outputs": [],
   "source": [
    "with open(file, 'rb') as f:\n",
    "    r = pickle.load(f)"
   ]
  },
  {
   "cell_type": "code",
   "execution_count": null,
   "id": "6315b219-ca1a-4d9c-9f1d-35d26481e766",
   "metadata": {},
   "outputs": [],
   "source": [
    "x = r.x\n",
    "print(np.std(x)) # std dev of the params"
   ]
  },
  {
   "cell_type": "code",
   "execution_count": null,
   "id": "0c58d733-bcf1-4a8b-991c-f7d257b6808d",
   "metadata": {},
   "outputs": [],
   "source": [
    "r.x.shape\n",
    "og_x = r.x.reshape((1, -1))"
   ]
  },
  {
   "cell_type": "code",
   "execution_count": null,
   "id": "ff3f089c-3eb7-45bc-8143-d90efa6f00df",
   "metadata": {},
   "outputs": [],
   "source": [
    "x = x/np.sqrt(np.inner(x, x)/len(x))*deviation # barely does anything\n",
    "#x = x.reshape((1,-1))\n",
    "\n",
    "d[i,:]=x"
   ]
  },
  {
   "cell_type": "code",
   "execution_count": null,
   "id": "0c08f4b4-2e03-4fae-a4fa-d22dd8897de4",
   "metadata": {},
   "outputs": [],
   "source": []
  },
  {
   "cell_type": "code",
   "execution_count": null,
   "id": "e40081c3-564c-4cf1-8324-222a09b2004d",
   "metadata": {},
   "outputs": [],
   "source": []
  },
  {
   "cell_type": "code",
   "execution_count": null,
   "id": "753fea4e-1038-4867-bdb4-509639e9816f",
   "metadata": {},
   "outputs": [],
   "source": [
    "a = np.arange(100)\n",
    "a = a.reshape((1, -1))"
   ]
  },
  {
   "cell_type": "code",
   "execution_count": null,
   "id": "5b74ff97-95ce-4729-92d5-565031faf52b",
   "metadata": {},
   "outputs": [],
   "source": [
    "a.shape"
   ]
  },
  {
   "cell_type": "code",
   "execution_count": null,
   "id": "171c4f9d-5a2c-409e-aacd-ad5fc057593e",
   "metadata": {},
   "outputs": [],
   "source": [
    "import matplotlib.pyplot as plt\n",
    "plt.figure(1)\n",
    "plt.plot(np.transpose(a), np.transpose(og_x))\n",
    "plt.plot(np.transpose(a), np.transpose(x))\n",
    "plt.show()"
   ]
  },
  {
   "cell_type": "code",
   "execution_count": 14,
   "id": "c1ef850f-a25c-4cf0-9686-82a156b4173d",
   "metadata": {},
   "outputs": [
    {
     "name": "stdout",
     "output_type": "stream",
     "text": [
      "1.5341639998176804\n",
      "1.631590437330393\n",
      "1.5298369005183388\n"
     ]
    }
   ],
   "source": [
    "#%% get results\n",
    "ndim = 100\n",
    "n_ims = 5\n",
    "d = np.zeros((nfile,ndim))\n",
    "i = 0\n",
    "for j in range(nfile):# just save all to look at them\n",
    "    \n",
    "    # j = index_selected[i]\n",
    "    # j = i \n",
    "    filename = f'result{i:02d}_{j:02d}.pickle'\n",
    "    file = os.path.join(data_folder,filename)\n",
    "    \n",
    "    with open(file, 'rb') as f:\n",
    "        r = pickle.load(f)\n",
    "    \n",
    "    x = r.x\n",
    "    print(np.std(x))\n",
    "    x = x/np.sqrt(np.inner(x, x)/len(x))*deviation\n",
    "    #x = x.reshape((1,-1))\n",
    "    d[j,:]=x\n",
    "    \n",
    "# np.save('all_similar_face_pair_deviation_60_20d.npy',d)\n",
    "# np.save('best_faceparams_AaronPaul_NM.mat',d)\n",
    "\n"
   ]
  },
  {
   "cell_type": "code",
   "execution_count": 15,
   "id": "467ac555-b330-40a3-ae46-064caeaf5583",
   "metadata": {},
   "outputs": [
    {
     "data": {
      "text/plain": [
       "(3, 100)"
      ]
     },
     "execution_count": 15,
     "metadata": {},
     "output_type": "execute_result"
    }
   ],
   "source": [
    "costs = costs[0:2]\n",
    "costs\n",
    "d.shape"
   ]
  },
  {
   "cell_type": "code",
   "execution_count": 16,
   "id": "d09789f3-c1e8-44f3-89c4-dc50e522f84b",
   "metadata": {},
   "outputs": [],
   "source": [
    "myMat = {\"d\": d, \"costs\":costs}\n",
    "io.savemat('best_faceparams_AaronPaul_1k_BFGS.mat',myMat)"
   ]
  },
  {
   "cell_type": "code",
   "execution_count": 4,
   "id": "f24516b6-0e03-4b2f-b153-72d1ec6960f0",
   "metadata": {},
   "outputs": [
    {
     "data": {
      "text/plain": [
       "3"
      ]
     },
     "execution_count": 4,
     "metadata": {},
     "output_type": "execute_result"
    }
   ],
   "source": [
    "nfile"
   ]
  },
  {
   "cell_type": "code",
   "execution_count": null,
   "id": "3d9c6502-01c2-4025-8609-c457b3120403",
   "metadata": {},
   "outputs": [],
   "source": []
  }
 ],
 "metadata": {
  "kernelspec": {
   "display_name": "Python 3 (ipykernel)",
   "language": "python",
   "name": "python3"
  },
  "language_info": {
   "codemirror_mode": {
    "name": "ipython",
    "version": 3
   },
   "file_extension": ".py",
   "mimetype": "text/x-python",
   "name": "python",
   "nbconvert_exporter": "python",
   "pygments_lexer": "ipython3",
   "version": "3.9.12"
  }
 },
 "nbformat": 4,
 "nbformat_minor": 5
}
