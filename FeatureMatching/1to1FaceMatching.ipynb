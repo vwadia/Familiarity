{
 "cells": [
  {
   "cell_type": "markdown",
   "id": "f2689922-fac3-4c3c-810e-7cd72e88682d",
   "metadata": {
    "tags": []
   },
   "source": [
    "### Notebook implementation of the 'gen_feature_matched_face_pairs7_magneto.py\" That Liang gifted me\n",
    "#### This produces the best match 1-1 match for a given familiar face. The algorithm has to be run a few times with ~1k iterations per run\n",
    "#### Open question: How to do QA on the results given?\n",
    "#### March 2023"
   ]
  },
  {
   "cell_type": "markdown",
   "id": "383a4ebb-cb1f-4246-809d-5eab891537f9",
   "metadata": {},
   "source": [
    "#### Make sure paths to features and AAM model are set correctly"
   ]
  },
  {
   "cell_type": "code",
   "execution_count": 1,
   "id": "adab515b-0f08-4904-af46-06bf8a527f9e",
   "metadata": {},
   "outputs": [
    {
     "name": "stdout",
     "output_type": "stream",
     "text": [
      "DWA644201\n"
     ]
    }
   ],
   "source": [
    "import socket\n",
    "print(socket.gethostname())"
   ]
  },
  {
   "cell_type": "code",
   "execution_count": 2,
   "id": "e589b4c3-b8b3-49fe-bfeb-62fefc936730",
   "metadata": {},
   "outputs": [],
   "source": [
    "# -*- coding: utf-8 -*-\n",
    "# gen face similar to target face (fixed small distance in face space) \n",
    "# and low level feature matched\n",
    "\n",
    "# Distribution difference measure: KL divergence\n",
    "# Match outer contour also\n",
    "\n",
    "#%% \n",
    "\n",
    "import numpy as np\n",
    "# import concurrent.futures\n",
    "# import matplotlib.pyplot as plt\n",
    "\n",
    "from scipy import optimize\n",
    "from scipy import io\n",
    "from skimage.color import rgb2hsv, rgb2gray\n",
    "import pickle\n",
    "\n",
    "\n",
    "#%% input - dunno what this is doing\n",
    "# import sys\n",
    "# ModelPath = 'C:/Users/varunwadia/Documents/PYTHON/FaceFamiliarity/face_model_human/Model'\n",
    "# sys.path.append(ModelPath)\n",
    "# if len(sys.argv)>1:\n",
    "#     iface = int(sys.argv[1])\n",
    "# else:\n",
    "#     iface = 0\n",
    "\n",
    "#%% import model data\n",
    "import os\n",
    "import socket \n",
    "if socket.gethostname() == 'DWA644201':\n",
    "    model_data = 'C:/Users/wadiav/Documents/PYTHON/FaceFamiliarity/face_model_human/Model_Data/Human_Face_Model_Data.mat'\n",
    "elif socket.gethostname() == 'DESKTOP-LJHLIED':\n",
    "    model_data = 'C:/Users/varunwadia/Documents/PYTHON/FaceFamiliarity/face_model_human/Model_Data/Human_Face_Model_Data.mat'\n",
    "else:\n",
    "    model_data = '/Users/varunwadia/Documents/PYTHON/FaceFamiliarity/face_model_human/Model_Data/Human_Face_Model_Data.mat'\n",
    "\n"
   ]
  },
  {
   "cell_type": "code",
   "execution_count": 3,
   "id": "223e7c1a-f06e-424d-ba7a-7d8968f0e04b",
   "metadata": {},
   "outputs": [],
   "source": [
    "#%% optimization options\n",
    "\n",
    "op_method = 'BFGS'\n",
    "options_optimize = {'disp': True, 'maxiter': 10, 'gtol': 1e-03, 'eps': 1e-02}\n",
    "\n",
    "# op_method = 'Nelder-Mead'\n",
    "# options_optimize = {'disp': True, 'maxiter': 1000}\n",
    "\n",
    "\n",
    "#%% initialize face generator\n",
    "from Model.AAM_Model import AAM_Model\n",
    "# from Model import AAM_Model\n",
    "\n",
    "model = AAM_Model(model_data)\n",
    "output_res = [360, 256]\n",
    "options_face_gen = {'normalized': False, 'ndim_shape': 20}\n",
    "\n",
    "#%% familiar faces params (shape-appearance feature)\n",
    "p_fam = io.loadmat('params_fam_100d.mat')\n",
    "p_fam = p_fam['p_fam']\n",
    "n_fam = p_fam.shape[0]\n",
    "n_dim = p_fam.shape[1]\n",
    "\n",
    "#%%\n",
    "rng = np.random.default_rng()\n",
    "\n",
    "\n",
    "#%% get image features\n",
    "bin_hue = np.arange(0,1.01,0.01)\n",
    "bin_low = np.arange(-10,10,0.5)\n"
   ]
  },
  {
   "cell_type": "code",
   "execution_count": 4,
   "id": "32f679da-a60e-45ef-a3b6-573236ac4c4e",
   "metadata": {},
   "outputs": [],
   "source": [
    "def get_image_features_distribution(im):\n",
    "    \n",
    "    im_gray = rgb2gray(im.squeeze())\n",
    "    \n",
    "    lum = im_gray.mean()\n",
    "    contrast = np.square(im_gray-128).mean()\n",
    "    \n",
    "    im_hsv = rgb2hsv(im.squeeze())\n",
    "    hue = im_hsv[:,:,0].flatten()\n",
    "    hue_pdf = np.histogram(hue, bin_hue)[0]/len(hue)\n",
    "\n",
    "    return lum, contrast, hue_pdf\n",
    "\n",
    "\n",
    "#%% optimize\n",
    "\n",
    "\n",
    "\n",
    "def find_low_level_matched_face(p_fam1, deviation):\n",
    "    #familiar face low level features\n",
    "    \n",
    "    im_fam, landmarks_fam = model.gen_image_param(p_fam1.reshape((1,-1)), output_res, options_face_gen)\n",
    "    rim_fam = landmarks_fam[model.data.mark_group.rim-1,:] # 0 indexing for python\n",
    "    \n",
    "    lum_fam, contrast_fam, hue_fam_pdf = get_image_features_distribution(im_fam)\n",
    "    hue_fam_entropy = - np.dot(hue_fam_pdf, np.log2(hue_fam_pdf+1e-6))\n",
    "    \n",
    "    def cost_fun(dp):\n",
    "        \n",
    "        ## constraint in distance of deviation vector\n",
    "        dp = dp/np.sqrt(np.inner(dp, dp)/len(dp))*deviation\n",
    "        \n",
    "        p = p_fam1 + dp\n",
    "                \n",
    "        im, landmarks = model.gen_image_param(p.reshape((1,-1)), output_res, options_face_gen)\n",
    "        rim = landmarks[model.data.mark_group.rim-1,:]\n",
    "        \n",
    "        lum, contrast, hue_pdf = get_image_features_distribution(im)\n",
    "        \n",
    "        # contrast\n",
    "        cost1 = abs(contrast_fam - contrast)/100\n",
    "        \n",
    "        # luminance\n",
    "        cost2 = abs(lum_fam - lum)/10\n",
    "        \n",
    "        # distribution hue\n",
    "        cost3 = (-np.dot(hue_fam_pdf, np.log2(hue_pdf+1e-6)) - hue_fam_entropy)*10\n",
    "        \n",
    "        # rim\n",
    "        cost4 = np.mean((rim_fam - rim)**2)/200\n",
    "        \n",
    "        # total cost\n",
    "        cost = cost1 + cost2 + cost3 + cost4\n",
    "        \n",
    "        # print(f'cost:{cost:.4f},contr:{cost1:.4f},lum:{cost2:.4f},hue:{cost3:.4f},rim:{cost4:.4f}')\n",
    "        # print(time.time())\n",
    "        \n",
    "        return cost\n",
    "    \n",
    "    dp0 = rng.normal(scale = deviation, size = p_fam1.shape)    \n",
    "    \n",
    "    print ('start optimization...')\n",
    "    res = optimize.minimize(cost_fun, dp0, method = op_method, options = options_optimize)\n",
    "    \n",
    "    return res\n"
   ]
  },
  {
   "cell_type": "code",
   "execution_count": 5,
   "id": "e62e6e9b-7823-4868-a4cc-1774e0050f7a",
   "metadata": {},
   "outputs": [
    {
     "name": "stdout",
     "output_type": "stream",
     "text": [
      "face0:\n",
      "start optimization...\n",
      "Warning: Desired error not necessarily achieved due to precision loss.\n",
      "         Current function value: 4.921699\n",
      "         Iterations: 9\n",
      "         Function evaluations: 4755\n",
      "         Gradient evaluations: 47\n",
      "face0:\n",
      "start optimization...\n",
      "Warning: Maximum number of iterations has been exceeded.\n",
      "         Current function value: 4.118010\n",
      "         Iterations: 10\n",
      "         Function evaluations: 1515\n",
      "         Gradient evaluations: 15\n",
      "face0:\n",
      "start optimization...\n",
      "Warning: Maximum number of iterations has been exceeded.\n",
      "         Current function value: 4.038640\n",
      "         Iterations: 10\n",
      "         Function evaluations: 1616\n",
      "         Gradient evaluations: 16\n",
      "face0:\n",
      "start optimization...\n",
      "Warning: Maximum number of iterations has been exceeded.\n",
      "         Current function value: 3.088211\n",
      "         Iterations: 10\n",
      "         Function evaluations: 1313\n",
      "         Gradient evaluations: 13\n",
      "face0:\n",
      "start optimization...\n",
      "Warning: Maximum number of iterations has been exceeded.\n",
      "         Current function value: 1.566708\n",
      "         Iterations: 10\n",
      "         Function evaluations: 1414\n",
      "         Gradient evaluations: 14\n",
      "elapsed time 2799.8648324012756 seconds\n"
     ]
    }
   ],
   "source": [
    "#%%\n",
    "import time\n",
    "t_start = time.time()\n",
    "\n",
    "\n",
    "# takes ~6min for each iteration of the for loop\n",
    "# Should I do this for each \n",
    "deviation = 1.5\n",
    "iface = 0\n",
    "# results = []\n",
    "for i in range(5): # gradient descent iterations?\n",
    "    \n",
    "    print (f'face{iface}:')\n",
    "    p_fam1 = p_fam[iface,:]\n",
    "    r = find_low_level_matched_face(p_fam1, deviation)\n",
    "    # results.append(r)\n",
    "    \n",
    "    with open(f'./results/result{iface:02d}_{i:02d}.pickle', 'wb') as f:\n",
    "        pickle.dump(r, f)\n",
    "\n",
    "\n",
    "t_end = time.time()\n",
    "t_diff = t_end - t_start\n",
    "print(f'elapsed time {t_diff} seconds')"
   ]
  },
  {
   "cell_type": "markdown",
   "id": "cb6684eb-fe73-4f9e-8c9d-684875c0fad5",
   "metadata": {},
   "source": [
    "im_fam, landmarks_fam = model.gen_image_param(p_fam1.reshape((1,-1)), output_res, options_face_gen)\n",
    "rim_fam = landmarks_fam[model.data.mark_group.rim-1,:]"
   ]
  },
  {
   "cell_type": "markdown",
   "id": "c67df76c-94be-425f-98d1-abf4ac55d0d7",
   "metadata": {},
   "source": [
    " with open(f'./results/result{iface:02d}_{i:02d}.pickle', 'wb') as f:\n",
    "        pickle.dump(r, f)"
   ]
  },
  {
   "cell_type": "markdown",
   "id": "f0a118af-3f73-4b8a-9fac-328886e56b3b",
   "metadata": {},
   "source": [
    "%matplotlib inline \n",
    "from matplotlib import pyplot as plt\n",
    "plt.imshow(im_fam)\n",
    "plt.show()"
   ]
  },
  {
   "cell_type": "markdown",
   "id": "a4a1e396-e4b1-4b57-bd09-e161a5c3a2e6",
   "metadata": {},
   "source": [
    "i"
   ]
  },
  {
   "cell_type": "code",
   "execution_count": 8,
   "id": "f47d5da1-6a88-484e-bcbb-0061703c9b42",
   "metadata": {},
   "outputs": [],
   "source": [
    "iface = 0\n",
    "i = 0\n",
    "total_cost = np.zeros(shape=(1, 5))\n",
    "for i in range(5):\n",
    "    with open(f'./results/result{iface:02d}_{i:02d}.pickle', 'rb') as f:\n",
    "        dest_object = pickle.load(f)\n",
    "        total_cost[0,i] =  dest_object.fun"
   ]
  },
  {
   "cell_type": "code",
   "execution_count": 9,
   "id": "767bf7d7-d3b8-48d0-94d1-58ce74efa546",
   "metadata": {},
   "outputs": [
    {
     "data": {
      "text/plain": [
       "array([[4.92169865, 4.11800969, 4.03863992, 3.08821099, 1.56670814]])"
      ]
     },
     "execution_count": 9,
     "metadata": {},
     "output_type": "execute_result"
    }
   ],
   "source": [
    "total_cost"
   ]
  },
  {
   "cell_type": "markdown",
   "id": "e0d24dd0-8c84-4f2e-921b-8a1bfcd9ec14",
   "metadata": {},
   "source": [
    "len(dest_object.final_simplex[1])\n"
   ]
  },
  {
   "cell_type": "markdown",
   "id": "4ca581cc-d7a5-433c-a0e8-f4e802fa6645",
   "metadata": {},
   "source": []
  }
 ],
 "metadata": {
  "kernelspec": {
   "display_name": "Python 3 (ipykernel)",
   "language": "python",
   "name": "python3"
  },
  "language_info": {
   "codemirror_mode": {
    "name": "ipython",
    "version": 3
   },
   "file_extension": ".py",
   "mimetype": "text/x-python",
   "name": "python",
   "nbconvert_exporter": "python",
   "pygments_lexer": "ipython3",
   "version": "3.7.4"
  }
 },
 "nbformat": 4,
 "nbformat_minor": 5
}
