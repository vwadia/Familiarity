{
 "cells": [
  {
   "cell_type": "markdown",
   "id": "c9fafd06-cdff-453e-8391-86d789fe9aea",
   "metadata": {},
   "source": [
    "### Notebook implementation of facial_landmarks from pyimagesearch"
   ]
  },
  {
   "cell_type": "markdown",
   "id": "3e6a8bad-b8b5-4e3d-afd1-e9f7ab211f0d",
   "metadata": {},
   "source": [
    "#### Flow: Point to image folder read in images \n",
    "#### detect the first 68 points, display the image with those points and record mouse clicks for the other 12\n",
    "#### Interpolate to get the last 12 around the head "
   ]
  },
  {
   "cell_type": "code",
   "execution_count": 1,
   "id": "fc3659ee-e472-4ba1-a83e-ec27ecf1e431",
   "metadata": {},
   "outputs": [],
   "source": [
    "# import the necessary packages\n",
    "from imutils import face_utils\n",
    "from imutils.face_utils import FaceAligner\n",
    "import numpy as np\n",
    "import argparse\n",
    "import imutils\n",
    "import dlib\n",
    "import cv2\n",
    "from scipy.io import loadmat, savemat\n",
    "import matplotlib.pyplot as plt\n",
    "import os"
   ]
  },
  {
   "cell_type": "code",
   "execution_count": 2,
   "id": "a86e89aa-027e-497a-bc74-fb2c5616dcde",
   "metadata": {},
   "outputs": [
    {
     "data": {
      "text/plain": [
       "'C:\\\\Users\\\\wadiav\\\\Documents\\\\PYTHON\\\\Familiarity'"
      ]
     },
     "execution_count": 2,
     "metadata": {},
     "output_type": "execute_result"
    }
   ],
   "source": [
    "os.getcwd()"
   ]
  },
  {
   "cell_type": "code",
   "execution_count": 3,
   "id": "e50549e1-2d73-4a55-b708-d708caf8289e",
   "metadata": {
    "tags": []
   },
   "outputs": [],
   "source": [
    "class CoordinateStore:\n",
    "    def __init__(self):\n",
    "        self.points = []\n",
    "\n",
    "    def select_point(self,event,x,y,flags,param):\n",
    "            if event == cv2.EVENT_LBUTTONDOWN:\n",
    "                cv2.circle(image,(x,y),2,(255,0,0),-1)\n",
    "                self.points.append((x,y))\n",
    "\n",
    "\n",
    "#instantiate class\n",
    "coordinateStore1 = CoordinateStore()\n",
    "\n",
    "# # Create a black image, a window and bind the function to window\n",
    "# # image = np.zeros((512,512,3), np.uint8)\n",
    "# cv2.namedWindow('image')\n",
    "# cv2.setMouseCallback('image',coordinateStore1.select_point)\n",
    "\n",
    "# while(1):\n",
    "#     cv2.imshow('image',image)\n",
    "#     if cv2.waitKey(20) == ord('q'):\n",
    "#         break\n",
    "# cv2.destroyAllWindows()\n",
    "\n",
    "\n",
    "# print(\"Selected Coordinates: \")\n",
    "# for i in coordinateStore1.points:\n",
    "#     print(i) "
   ]
  },
  {
   "cell_type": "markdown",
   "id": "b403cfcd-eacb-47f4-99a1-b66c86f3b97a",
   "metadata": {},
   "source": [
    "### Load in a set of images, detect the 68 landmarks with dlib, then use click events to store the other 12"
   ]
  },
  {
   "cell_type": "code",
   "execution_count": 4,
   "id": "ac701492-7168-4db2-8347-409c00563c60",
   "metadata": {},
   "outputs": [],
   "source": [
    "# initialize dlib's face detector (HOG-based) and then create\n",
    "# the facial landmark predictor\n",
    "detector = dlib.get_frontal_face_detector()\n",
    "predictor = dlib.shape_predictor(\"shape_predictor_68_face_landmarks.dat\")"
   ]
  },
  {
   "cell_type": "markdown",
   "id": "575f293b-3c72-42ca-9077-bab1cbc27ae9",
   "metadata": {},
   "source": [
    "### When the image displays, use the mouse to click the extra 12 points see face_model_human/imageJFaceMark_Example for the order)\n",
    "### Then press 'q' and the next image will pop up"
   ]
  },
  {
   "cell_type": "code",
   "execution_count": 5,
   "id": "51b386fc-ee9f-4249-b5c0-86fdb3b66af0",
   "metadata": {
    "tags": []
   },
   "outputs": [
    {
     "ename": "SyntaxError",
     "evalue": "invalid syntax (3817264027.py, line 57)",
     "output_type": "error",
     "traceback": [
      "\u001b[1;36m  Input \u001b[1;32mIn [5]\u001b[1;36m\u001b[0m\n\u001b[1;33m    cv2.namedWindow(\"Output\", cv2.WINDOW_NORMAL)q\u001b[0m\n\u001b[1;37m                                                ^\u001b[0m\n\u001b[1;31mSyntaxError\u001b[0m\u001b[1;31m:\u001b[0m invalid syntax\n"
     ]
    }
   ],
   "source": [
    "# imPath = os.path.join(os.getcwd(), 'BackgroundRemoval_SegAny\\SingleIm')\n",
    "# outPath = os.path.join(os.getcwd(), 'BackgroundRemoval_SegAny\\SingleIm_markedPts')\n",
    "\n",
    "# imPath = os.path.join(os.getcwd(), 'BackgroundRemoval_SegAny\\CelebFaces_Pt_Varun_Aligned_10')\n",
    "# outPath = os.path.join(os.getcwd(), 'BackgroundRemoval_SegAny\\markedPts_Pt_Varun_Aligned_10')\n",
    "\n",
    "# imPath = os.path.join(os.getcwd(), 'BackgroundRemoval_SegAny\\CelebFaces_Pt_Varun_Processed_10')\n",
    "# outPath = os.path.join(os.getcwd(), 'BackgroundRemoval_SegAny\\markedPts_Pt_Varun_Processed_10')\n",
    "\n",
    "# imPath = os.path.join(os.getcwd(), 'BackgroundRemoval_SegAny\\FamFaces_Pt_P87CS_2_Processed') # marking the raw ims\n",
    "# imPath = os.path.join(os.getcwd(), 'BackgroundRemoval_SegAny\\FewIms') # making the raw ims\n",
    "# outPath = os.path.join(os.getcwd(), 'BackgroundRemoval_SegAny\\markedPts_Pt_P87CS_2')\n",
    "\n",
    "# imPath = os.path.join(os.getcwd(), 'BackgroundRemoval_SegAny\\P86CS\\FamFaces_Pt_P86CS_Aligned') # marking the aligned ims (more standard size)\n",
    "# imPath = os.path.join(os.getcwd(), 'BackgroundRemoval_SegAny\\FewIms') # making the raw ims\n",
    "# outPath = os.path.join(os.getcwd(), 'BackgroundRemoval_SegAny\\P86CS\\markedPts_Pt_P86CS')\n",
    "\n",
    "# imPath = os.path.join(os.getcwd(), 'BackgroundRemoval_SegAny\\P92CS\\FamFaces_Pt_P92CS_Aligned') # marking the aligned ims (more standard size)\n",
    "# imPath = os.path.join(os.getcwd(), 'BackgroundRemoval_SegAny\\P92CS\\P92CS_Raw') # marking the raw ims\n",
    "# imPath = os.path.join(os.getcwd(), 'BackgroundRemoval_SegAny\\P92CS\\Im') # marking the raw ims\n",
    "# outPath = os.path.join(os.getcwd(), 'BackgroundRemoval_SegAny\\P92CS\\markedPts_Pt_P92CS')\n",
    "\n",
    "# imPath = os.path.join(os.getcwd(), 'BackgroundRemoval_SegAny\\P98CS\\FamFaces_P98CS_Raw') # marking the raw ims\n",
    "# outPath = os.path.join(os.getcwd(), 'BackgroundRemoval_SegAny\\P98CS\\markedPts_Pt_P98CS')\n",
    "\n",
    "# imPath = os.path.join(os.getcwd(), 'BackgroundRemoval_SegAny\\P99CS\\ExtraFaces_P99CS') # marking the raw ims\n",
    "# imPath = os.path.join(os.getcwd(), 'BackgroundRemoval_SegAny\\P99CS\\Im') # marking the raw ims\n",
    "# outPath = os.path.join(os.getcwd(), 'BackgroundRemoval_SegAny\\P99CS\\markedPts_Pt_P99CS')\n",
    "\n",
    "imPath = os.path.join(os.getcwd(), 'BackgroundRemoval_SegAny\\P102CS\\ExtraFaces_Processed') # marking the raw ims\n",
    "outPath = os.path.join(os.getcwd(), 'BackgroundRemoval_SegAny\\P102CS\\markedPts_Pt_P102CS')\n",
    "\n",
    "# imPath = os.path.join(os.getcwd(), 'BigSet_AllFamStim_noreps') # marking the processed images \n",
    "# outPath = os.path.join(os.getcwd(), 'BigSet_AllFamStim_noreps\\markedPts_bigSetNoReps')\n",
    "\n",
    "newPts = []\n",
    "if os.path.exists(outPath) is False:\n",
    "    os.mkdir(outPath)\n",
    "for files in os.listdir(imPath):\n",
    "    im_path_in = os.path.join(imPath, files)\n",
    "    image = cv2.imread(im_path_in)\n",
    "    \n",
    "    name = files.split('.')\n",
    "    prefix = name[0]\n",
    "    \n",
    "    rects = detector(image, 1)\n",
    "    rect = rects[0]\n",
    "    \n",
    "    shape = predictor(image, rect)\n",
    "    shape = face_utils.shape_to_np(shape)\n",
    "    \n",
    "    for (x, y) in shape:\n",
    "        cv2.circle(image, (x, y), 2, (0, 0, 255), -1)\n",
    "    \n",
    "    # del newPts\n",
    "    # display image\n",
    "    cv2.namedWindow(\"Output\", cv2.WINDOW_NORMAL)\n",
    "    \n",
    "    # set specific size\n",
    "    cv2.resizeWindow(\"Output\", 900, 900)\n",
    "    \n",
    "    # mark points\n",
    "    cv2.setMouseCallback(\"Output\", coordinateStore1.select_point)    \n",
    "    while(1):\n",
    "        cv2.imshow(\"Output\",image)\n",
    "        if cv2.waitKey(20) == ord('q'):\n",
    "            break\n",
    "    cv2.destroyAllWindows()\n",
    "    \n",
    "    newPts = np.array(coordinateStore1.points)\n",
    "\n",
    "    print(newPts.shape)\n",
    "    newShape = np.concatenate((shape, newPts), axis=0)\n",
    "    \n",
    "    coordinateStore1.points = []\n",
    "    # outName = os.path.join(outPath, prefix + '.npy')\n",
    "    # np.save(outName,  newShape)\n",
    "    outName = os.path.join(outPath, prefix + '.mat')\n",
    "    savemat(outName,  {'pts': newShape})"
   ]
  },
  {
   "cell_type": "code",
   "execution_count": null,
   "id": "2c15c96b-a84f-489a-b53f-08e2e7f7079c",
   "metadata": {},
   "outputs": [],
   "source": [
    "shape.part(0).x\n",
    "# shape.part(0).y"
   ]
  },
  {
   "cell_type": "code",
   "execution_count": null,
   "id": "7c7b979b-7910-48d6-baf2-2ace3c5f8d7f",
   "metadata": {},
   "outputs": [],
   "source": [
    "shape\n"
   ]
  },
  {
   "cell_type": "markdown",
   "id": "59e2ac15-3040-42e5-89cd-dd64fa6a2578",
   "metadata": {},
   "source": [
    "### Load file and interpolate to add extra points\n",
    "## Doesn't work - just save as mat files and do it in matlab"
   ]
  },
  {
   "cell_type": "raw",
   "id": "09e45308-fda4-4e47-abf1-ac0d0ae47d55",
   "metadata": {},
   "source": [
    "from scipy.interpolate import pchip_interpolate, interp1d\n",
    "\n",
    "file = os.path.join(os.getcwd(), (\"BackgroundRemoval_SegAny\\SingleIm_markedPts\" + \"\\\\112.npy\"))\n",
    "pts = np.load(file)\n",
    "pts.shape\n",
    "\n",
    "point_ids = np.array([1, 79, 74, 76, 78, 80, 17])-1 # points around the hairline to interpolate between\n",
    "sort_ids = np.argsort(pts[point_ids, 0])\n",
    "\n",
    "xi = pts[point_ids, 0][sort_ids]  # pchip needs xvalues to be sorted           \n",
    "yi = pts[point_ids, 1]#[sort_ids]\n",
    "\n",
    "hiP = []\n",
    "for i in range(len(xi)-1):\n",
    "    iP = np.arange(xi[i], xi[i+1], (xi[i+1]-xi[i])/3)\n",
    "    iP = iP.astype(\"int32\")\n",
    "    hiP = np.append(hiP, iP)\n",
    "\n",
    "x = hiP[np.setdiff1d(np.arange(0, 18, 1), np.arange(0, 18, 3))]\n",
    "# x = hiP\n",
    "\n",
    "# 1d interpolation - doesn't work yet either. points must be issue\n",
    "# f = interp1d(xi, yi, \"quadratic\")\n",
    "# y = f(x)\n",
    "\n",
    "# numpy interpolation\n",
    "y = np.interp(x, xi, yi)\n",
    "\n",
    "# # Pchip interpolation - doesn't work yet try 1d\n",
    "# y = pchip_interpolate(xi, yi, x)\n",
    "\n",
    "inter_pts = np.transpose(np.array([x, y]))\n",
    "inter_pts = inter_pts.astype(\"int32\")\n",
    "allPts = np.concatenate((pts, inter_pts), axis=0)\n",
    "\n"
   ]
  },
  {
   "cell_type": "raw",
   "id": "01d4a706-4f5c-49a8-8978-8177243afec3",
   "metadata": {},
   "source": [
    "x.shape"
   ]
  },
  {
   "cell_type": "raw",
   "id": "6633b921-815e-40de-92ed-7ea432ff18bb",
   "metadata": {},
   "source": [
    "allPts.shape"
   ]
  },
  {
   "cell_type": "markdown",
   "id": "8893df11-c55b-42ab-aeda-43fe2fe5e7b1",
   "metadata": {},
   "source": [
    "### Check whether points make sense"
   ]
  },
  {
   "cell_type": "code",
   "execution_count": null,
   "id": "074a2a4b-c09b-4e5c-bbb4-509ca4037b6b",
   "metadata": {},
   "outputs": [],
   "source": [
    "# initialize dlib's face detector (HOG-based) and then create\n",
    "# the facial landmark predictor\n",
    "detector = dlib.get_frontal_face_detector()\n",
    "predictor = dlib.shape_predictor(\"shape_predictor_68_face_landmarks.dat\")\n",
    "\n",
    "# load the input image, resize it, and convert it to grayscale\n",
    "image = cv2.imread(\"BackgroundRemoval_SegAny\\SingleIm\\\\112.jpg\") # 3001 is too big to visualize easily\n",
    "gray = cv2.cvtColor(image, cv2.COLOR_BGR2GRAY)\n",
    "\n",
    "# detect faces in the grayscale image\n",
    "rects = detector(gray, 1)\n",
    "rect = rects[0]\n",
    "\n",
    "for (x, y) in inter_pts:\n",
    "    cv2.circle(image, (x, y), 3, (0, 0, 255), -1)\n",
    "\n",
    "# show inline with matplotlib\n",
    "plt.figure(figsize=(5,5))\n",
    "plt.imshow(cv2.cvtColor(image, cv2.COLOR_BGR2RGB))"
   ]
  },
  {
   "cell_type": "markdown",
   "id": "48da1b6e-437e-4d70-afbe-390000ca8d4c",
   "metadata": {},
   "source": [
    "#### Single image check - loading in existing points"
   ]
  },
  {
   "cell_type": "code",
   "execution_count": null,
   "id": "60ab06de-ad9c-44e9-a11f-f88db2c94b39",
   "metadata": {},
   "outputs": [],
   "source": [
    "# initialize dlib's face detector (HOG-based) and then create\n",
    "# the facial landmark predictor\n",
    "detector = dlib.get_frontal_face_detector()\n",
    "predictor = dlib.shape_predictor(\"shape_predictor_68_face_landmarks.dat\")\n",
    "\n",
    "# load the input image, resize it, and convert it to grayscale\n",
    "image = cv2.imread(\"BackgroundRemoval_SegAny\\SingleIm\\\\3013.jpg\") # 3001 is too big to visualize easily\n",
    "gray = cv2.cvtColor(image, cv2.COLOR_BGR2GRAY)\n",
    "\n",
    "# detect faces in the grayscale image\n",
    "rects = detector(gray, 1)\n",
    "# rects = detector(image, 1) # works just fine too\n",
    "\n",
    "\n",
    "# load in existing points \n",
    "# Liang's \n",
    "pts = loadmat(\"3013.mat\")\n",
    "pts = pts[\"pts\"]\n",
    "pts = pts.astype(\"int32\")\n",
    "\n",
    "# Mine\n",
    "# file = os.path.join(os.getcwd(), (\"BackgroundRemoval_SegAny\\SingleIm_markedPts\" + \"\\\\112.npy\"))\n",
    "# pts = np.load(file)\n",
    "\n",
    "# visualize\n",
    "rect = rects[0]\n",
    "\n",
    "for (x, y) in pts:\n",
    "    cv2.circle(image, (x, y), 2, (0, 0, 255), -1)\n",
    "\n",
    "# show with opencv in external window\n",
    "# cv2.imshow(\"Output\", image)\n",
    "# cv2.waitKey(0) # without this it won't show for some annoying reason\n",
    "# cv2.destroyAllWindows()\n",
    "\n",
    "# show inline with matplotlib\n",
    "plt.figure(figsize=(5,5))\n",
    "plt.imshow(cv2.cvtColor(image, cv2.COLOR_BGR2RGB))"
   ]
  },
  {
   "cell_type": "raw",
   "id": "a1f2f1c8-f96b-413d-820d-0f4e4acc3e32",
   "metadata": {},
   "source": [
    "# loop over the face detections\n",
    "for (i, rect) in enumerate(rects):\n",
    "    # print(i)\n",
    "    # print(rect)\n",
    "\t# determine the facial landmarks for the face region, then\n",
    "\t# convert the facial landmark (x, y)-coordinates to a NumPy\n",
    "\t# array\n",
    "\tshape = predictor(gray, rect)\n",
    "\tshape = face_utils.shape_to_np(shape)\n",
    "\n",
    "\t# convert dlib's rectangle to a OpenCV-style bounding box\n",
    "\t# [i.e., (x, y, w, h)], then draw the face bounding box\n",
    "\t(x, y, w, h) = face_utils.rect_to_bb(rect)\n",
    "\tcv2.rectangle(image, (x, y), (x + w, y + h), (0, 255, 0), 2)\n",
    "\n",
    "\t# show the face number\n",
    "\tcv2.putText(image, \"Face #{}\".format(i + 1), (x - 10, y - 10),\n",
    "\t\tcv2.FONT_HERSHEY_SIMPLEX, 0.5, (0, 255, 0), 2)\n",
    "\n",
    "\t# loop over the (x, y)-coordinates for the facial landmarks\n",
    "\t# and draw them on the image\n",
    "\tfor (x, y) in shape:\n",
    "\t\tcv2.circle(image, (x, y), 1, (0, 0, 255), -1)\n",
    "        \n",
    "# show the output image with the face detections + facial landmarks\n",
    "cv2.imshow(\"Output\", image)\n",
    "cv2.waitKey(0)"
   ]
  }
 ],
 "metadata": {
  "kernelspec": {
   "display_name": "Python 3 (ipykernel)",
   "language": "python",
   "name": "python3"
  },
  "language_info": {
   "codemirror_mode": {
    "name": "ipython",
    "version": 3
   },
   "file_extension": ".py",
   "mimetype": "text/x-python",
   "name": "python",
   "nbconvert_exporter": "python",
   "pygments_lexer": "ipython3",
   "version": "3.9.12"
  }
 },
 "nbformat": 4,
 "nbformat_minor": 5
}
